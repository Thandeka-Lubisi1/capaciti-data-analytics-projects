{
 "cells": [
  {
   "cell_type": "code",
   "execution_count": null,
   "id": "c4e73965-6806-4413-96ff-b5bc2150703c",
   "metadata": {},
   "outputs": [],
   "source": [
    "import pandas as pd\n",
    "import numpy as np"
   ]
  },
  {
   "cell_type": "code",
   "execution_count": null,
   "id": "58d6e788-0ab9-47c1-abc8-48cb68cb9384",
   "metadata": {},
   "outputs": [
    {
     "name": "stdout",
     "output_type": "stream",
     "text": [
      "Names: ['faith', 'xalamukani', 'Nomzamo', 'Asive', 'Nyeleti', 'Thandeka', 'Precious', 'Christabel', 'Lebo', 'Julia']\n",
      "Ages: [23, 27, 19, 22, 30, 25, 28, 21, 26, 24]\n"
     ]
    }
   ],
   "source": [
    "# List of 10 names (strings)\n",
    "names = [\"faith\", \"xalamukani\", \"Nomzamo\", \"Asive\", \"Nyeleti\", \"Thandeka\", \"Precious\", \"Christabel\", \"Lebo\", \"Julia\"]\n",
    "\n",
    "# List of 10 corresponding ages (integers)\n",
    "ages = [23, 27, 19, 22, 30, 25, 28, 21, 26, 24]\n",
    "\n",
    "print(\"Names:\", names)\n",
    "print(\"Ages:\", ages)\n",
    "\n"
   ]
  },
  {
   "cell_type": "code",
   "execution_count": null,
   "id": "d7da87ef-b458-4941-8da4-894ac54c810c",
   "metadata": {},
   "outputs": [
    {
     "name": "stdout",
     "output_type": "stream",
     "text": [
      "\n",
      "Name and Age Pairs:\n",
      "faith is 23 years old\n",
      "xalamukani is 27 years old\n",
      "Nomzamo is 19 years old\n",
      "Asive is 22 years old\n",
      "Nyeleti is 30 years old\n",
      "Thandeka is 25 years old\n",
      "Precious is 28 years old\n",
      "Christabel is 21 years old\n",
      "Lebo is 26 years old\n",
      "Julia is 24 years old\n"
     ]
    }
   ],
   "source": [
    "print(\"\\nName and Age Pairs:\")\n",
    "for i in range(len(names)):\n",
    "    print(f\"{names[i]} is {ages[i]} years old\")\n"
   ]
  },
  {
   "cell_type": "code",
   "execution_count": 15,
   "id": "ed1a1878-d198-4042-acb2-b1c05ddb9431",
   "metadata": {},
   "outputs": [
    {
     "name": "stdout",
     "output_type": "stream",
     "text": [
      "\n",
      "Average Age: 24.5\n",
      "Youngest Age: 19\n",
      "Oldest Age: 30\n"
     ]
    }
   ],
   "source": [
    "# Find the average age\n",
    "average_age = sum(ages) / len(ages)\n",
    "print(f\"\\nAverage Age: {average_age:.1f}\")\n",
    "\n",
    "# Find the youngest and oldest\n",
    "print(f\"Youngest Age: {min(ages)}\")\n",
    "print(f\"Oldest Age: {max(ages)}\")\n"
   ]
  },
  {
   "cell_type": "code",
   "execution_count": null,
   "id": "7f07cd1a-dbfa-4f29-90d3-6f54b40a3664",
   "metadata": {},
   "outputs": [],
   "source": []
  }
 ],
 "metadata": {
  "kernelspec": {
   "display_name": "Python 3 (ipykernel)",
   "language": "python",
   "name": "python3"
  },
  "language_info": {
   "codemirror_mode": {
    "name": "ipython",
    "version": 3
   },
   "file_extension": ".py",
   "mimetype": "text/x-python",
   "name": "python",
   "nbconvert_exporter": "python",
   "pygments_lexer": "ipython3",
   "version": "3.13.3"
  }
 },
 "nbformat": 4,
 "nbformat_minor": 5
}
