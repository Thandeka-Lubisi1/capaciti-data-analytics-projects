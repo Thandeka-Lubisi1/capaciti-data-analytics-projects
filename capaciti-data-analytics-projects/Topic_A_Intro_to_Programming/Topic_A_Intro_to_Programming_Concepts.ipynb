{
 "cells": [
  {
   "cell_type": "markdown",
   "id": "084f2c1b",
   "metadata": {},
   "source": [
    "# Topic A: Introduction to Programming Concepts"
   ]
  },
  {
   "cell_type": "markdown",
   "id": "c609072c",
   "metadata": {},
   "source": [
    "This notebook explains a real-life task using pseudocode."
   ]
  },
  {
   "cell_type": "markdown",
   "id": "a02d198a",
   "metadata": {},
   "source": [
    "### Task: Making Tea"
   ]
  },
  {
   "cell_type": "code",
   "execution_count": null,
   "id": "508bb8eb",
   "metadata": {},
   "outputs": [],
   "source": [
    "# Pseudocode for Making Tea\n",
    "# 1. Boil water\n",
    "# 2. Place tea bag into cup\n",
    "# 3. Pour boiled water into cup\n",
    "# 4. Let it steep for a few minutes\n",
    "# 5. Remove tea bag\n",
    "# 6. Add sugar or milk if desired\n",
    "# 7. Stir and serve"
   ]
  }
 ],
 "metadata": {},
 "nbformat": 4,
 "nbformat_minor": 5
}
