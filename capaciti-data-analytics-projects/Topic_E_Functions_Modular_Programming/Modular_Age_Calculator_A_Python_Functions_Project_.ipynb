{
  "nbformat": 4,
  "nbformat_minor": 0,
  "metadata": {
    "colab": {
      "provenance": []
    },
    "kernelspec": {
      "name": "python3",
      "display_name": "Python 3"
    },
    "language_info": {
      "name": "python"
    }
  },
  "cells": [
    {
      "cell_type": "code",
      "execution_count": 1,
      "metadata": {
        "id": "nH4iuOcyZvpM"
      },
      "outputs": [],
      "source": [
        "# 📘 Modular Age Calculator\n",
        "# In this notebook, we will define and use functions to calculate\n",
        "# useful statistics from a list of ages, such as the average, minimum,\n",
        "# maximum, and count of eligible scholarship candidates (age > 18).\n"
      ]
    },
    {
      "cell_type": "code",
      "source": [
        "# Sample data\n",
        "ages = [17, 22, 19, 16, 21, 18, 25, 20, 23, 15]\n",
        "print(\"Ages:\", ages)\n"
      ],
      "metadata": {
        "colab": {
          "base_uri": "https://localhost:8080/"
        },
        "id": "prnmMa_ZZ2ZX",
        "outputId": "e7b26cab-b0d8-4776-d286-e5c9f14624f5"
      },
      "execution_count": 2,
      "outputs": [
        {
          "output_type": "stream",
          "name": "stdout",
          "text": [
            "Ages: [17, 22, 19, 16, 21, 18, 25, 20, 23, 15]\n"
          ]
        }
      ]
    },
    {
      "cell_type": "code",
      "source": [
        "def calculate_average_age(age_list):\n",
        "    return sum(age_list) / len(age_list)\n",
        "\n",
        "# Test it\n",
        "average = calculate_average_age(ages)\n",
        "print(\"Average age:\", average)\n"
      ],
      "metadata": {
        "colab": {
          "base_uri": "https://localhost:8080/"
        },
        "id": "01Xfa915Z3sN",
        "outputId": "08469f40-d2a2-462c-82e0-0b6352fd0b08"
      },
      "execution_count": 3,
      "outputs": [
        {
          "output_type": "stream",
          "name": "stdout",
          "text": [
            "Average age: 19.6\n"
          ]
        }
      ]
    },
    {
      "cell_type": "code",
      "source": [
        "def find_max_age(age_list):\n",
        "    return max(age_list)\n",
        "\n",
        "print(\"Oldest age:\", find_max_age(ages))\n"
      ],
      "metadata": {
        "colab": {
          "base_uri": "https://localhost:8080/"
        },
        "id": "rvDBTfUCaOIZ",
        "outputId": "0b8538bc-1adb-4cba-eb11-1ff5aafab4b8"
      },
      "execution_count": 4,
      "outputs": [
        {
          "output_type": "stream",
          "name": "stdout",
          "text": [
            "Oldest age: 25\n"
          ]
        }
      ]
    },
    {
      "cell_type": "code",
      "source": [
        "def find_min_age(age_list):\n",
        "    return min(age_list)\n",
        "\n",
        "print(\"Youngest age:\", find_min_age(ages))\n"
      ],
      "metadata": {
        "colab": {
          "base_uri": "https://localhost:8080/"
        },
        "id": "zmJpmcv6aRZu",
        "outputId": "8b83cd95-fca5-4476-e9f9-2538e176af2f"
      },
      "execution_count": 5,
      "outputs": [
        {
          "output_type": "stream",
          "name": "stdout",
          "text": [
            "Youngest age: 15\n"
          ]
        }
      ]
    },
    {
      "cell_type": "code",
      "source": [
        "def count_eligible(ages):\n",
        "    count = 0\n",
        "    for age in ages:\n",
        "        if age > 18:\n",
        "            count += 1\n",
        "    return count\n",
        "\n",
        "eligible = count_eligible(ages)\n",
        "print(\"Number of eligible candidates for scholarship:\", eligible)\n"
      ],
      "metadata": {
        "colab": {
          "base_uri": "https://localhost:8080/"
        },
        "id": "qRlJdQTlaUdn",
        "outputId": "54ba4d63-a1e5-481c-9011-9bc464bb7773"
      },
      "execution_count": 6,
      "outputs": [
        {
          "output_type": "stream",
          "name": "stdout",
          "text": [
            "Number of eligible candidates for scholarship: 6\n"
          ]
        }
      ]
    },
    {
      "cell_type": "code",
      "source": [
        "def summary_report(age_list):\n",
        "    print(\"SUMMARY REPORT\")\n",
        "    print(\"---------------\")\n",
        "    print(\"Average Age:\", calculate_average_age(age_list))\n",
        "    print(\"Minimum Age:\", find_min_age(age_list))\n",
        "    print(\"Maximum Age:\", find_max_age(age_list))\n",
        "    print(\"Eligible for Scholarship (>18):\", count_eligible(age_list))\n",
        "\n",
        "# Call the summary\n",
        "summary_report(ages)\n"
      ],
      "metadata": {
        "colab": {
          "base_uri": "https://localhost:8080/"
        },
        "id": "sFPB5PDCaXsu",
        "outputId": "e030cac2-840a-43b2-c616-6fdf5a5ebf91"
      },
      "execution_count": 7,
      "outputs": [
        {
          "output_type": "stream",
          "name": "stdout",
          "text": [
            "SUMMARY REPORT\n",
            "---------------\n",
            "Average Age: 19.6\n",
            "Minimum Age: 15\n",
            "Maximum Age: 25\n",
            "Eligible for Scholarship (>18): 6\n"
          ]
        }
      ]
    }
  ]
}