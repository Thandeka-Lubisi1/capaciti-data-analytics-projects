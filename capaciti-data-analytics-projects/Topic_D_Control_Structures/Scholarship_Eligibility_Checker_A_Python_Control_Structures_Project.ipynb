{
  "nbformat": 4,
  "nbformat_minor": 0,
  "metadata": {
    "colab": {
      "provenance": []
    },
    "kernelspec": {
      "name": "python3",
      "display_name": "Python 3"
    },
    "language_info": {
      "name": "python"
    }
  },
  "cells": [
    {
      "cell_type": "code",
      "execution_count": 2,
      "metadata": {
        "id": "Rg2cFrEXW3fp"
      },
      "outputs": [],
      "source": [
        "# Topic D: Python Control Structures - Scholarship Eligibility\n",
        "# This notebook checks which students are eligible for a scholarship based on age.\n",
        "# Eligibility criteria: Age must be greater than 18.\n"
      ]
    },
    {
      "cell_type": "code",
      "source": [
        "# Updated sample data with Thandeka and Christabel\n",
        "names = [\"Alice\", \"Thandeka\", \"Bongani\", \"Christabel\", \"Cindy\", \"Dineo\", \"Ebrahim\", \"Faith\", \"George\", \"Hope\"]\n",
        "ages = [17, 19, 20, 22, 16, 22, 18, 19, 21, 15]\n"
      ],
      "metadata": {
        "id": "ee0FBBOBX2Tt"
      },
      "execution_count": 6,
      "outputs": []
    },
    {
      "cell_type": "code",
      "source": [
        "# Looping through names and ages using zip()\n",
        "print(\"📋 Scholarship Eligibility List:\\n\")\n",
        "for name, age in zip(names, ages):\n",
        "    if age > 18:\n",
        "        print(f\"{name} (Age {age}) is eligible for the scholarship. ✅\")\n",
        "    else:\n",
        "        print(f\"{name} (Age {age}) is NOT eligible. ❌\")\n"
      ],
      "metadata": {
        "colab": {
          "base_uri": "https://localhost:8080/"
        },
        "id": "sFQhkO1CX5om",
        "outputId": "d8887b28-ca48-4bc6-8e5f-880089b93bcc"
      },
      "execution_count": 7,
      "outputs": [
        {
          "output_type": "stream",
          "name": "stdout",
          "text": [
            "📋 Scholarship Eligibility List:\n",
            "\n",
            "Alice (Age 17) is NOT eligible. ❌\n",
            "Thandeka (Age 19) is eligible for the scholarship. ✅\n",
            "Bongani (Age 20) is eligible for the scholarship. ✅\n",
            "Christabel (Age 22) is eligible for the scholarship. ✅\n",
            "Cindy (Age 16) is NOT eligible. ❌\n",
            "Dineo (Age 22) is eligible for the scholarship. ✅\n",
            "Ebrahim (Age 18) is NOT eligible. ❌\n",
            "Faith (Age 19) is eligible for the scholarship. ✅\n",
            "George (Age 21) is eligible for the scholarship. ✅\n",
            "Hope (Age 15) is NOT eligible. ❌\n"
          ]
        }
      ]
    },
    {
      "cell_type": "code",
      "source": [
        "# Bonus: Using a while loop to do the same check\n",
        "print(\"\\n🔁 Eligibility Check using While Loop:\\n\")\n",
        "i = 0\n",
        "while i < len(names):\n",
        "    if ages[i] > 18:\n",
        "        print(f\"{names[i]} (Age {ages[i]}) is eligible ✅\")\n",
        "    else:\n",
        "        print(f\"{names[i]} (Age {ages[i]}) is NOT eligible ❌\")\n",
        "    i += 1\n"
      ],
      "metadata": {
        "colab": {
          "base_uri": "https://localhost:8080/"
        },
        "id": "C7tgVjzlX9iu",
        "outputId": "cbe2e8ba-683f-43f4-ceaf-a2f495e3aeb3"
      },
      "execution_count": 8,
      "outputs": [
        {
          "output_type": "stream",
          "name": "stdout",
          "text": [
            "\n",
            "🔁 Eligibility Check using While Loop:\n",
            "\n",
            "Alice (Age 17) is NOT eligible ❌\n",
            "Thandeka (Age 19) is eligible ✅\n",
            "Bongani (Age 20) is eligible ✅\n",
            "Christabel (Age 22) is eligible ✅\n",
            "Cindy (Age 16) is NOT eligible ❌\n",
            "Dineo (Age 22) is eligible ✅\n",
            "Ebrahim (Age 18) is NOT eligible ❌\n",
            "Faith (Age 19) is eligible ✅\n",
            "George (Age 21) is eligible ✅\n",
            "Hope (Age 15) is NOT eligible ❌\n"
          ]
        }
      ]
    }
  ]
}