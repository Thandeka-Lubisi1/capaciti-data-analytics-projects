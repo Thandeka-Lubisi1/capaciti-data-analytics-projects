{
 "cells": [
  {
   "cell_type": "code",
   "execution_count": null,
   "id": "0e9de0dd-9abc-4845-b393-a2a4424e07bd",
   "metadata": {},
   "outputs": [],
   "source": [
    "import pandas as pd\n",
    "import numpy as np"
   ]
  },
  {
   "cell_type": "code",
   "execution_count": 2,
   "id": "d0be3b14-52dd-456c-bb76-c17214670664",
   "metadata": {},
   "outputs": [
    {
     "name": "stdout",
     "output_type": "stream",
     "text": [
      "Hello, Data Academy!\n"
     ]
    }
   ],
   "source": [
    "print(\"Hello, Data Academy!\")"
   ]
  },
  {
   "cell_type": "code",
   "execution_count": 1,
   "id": "292b6384-fc7d-4428-bc52-c70ba3428daa",
   "metadata": {},
   "outputs": [
    {
     "name": "stdout",
     "output_type": "stream",
     "text": [
      "1. Python has a simple and readable syntax, making it beginner-friendly.\n",
      "2. Python offers powerful libraries like pandas, numpy, matplotlib, and scikit-learn.\n",
      "3. Python is used by top companies for data analysis, machine learning, and AI.\n"
     ]
    }
   ],
   "source": [
    "# Why learn Python for Data Science?\n",
    "\n",
    "# Python is one of the most popular programming languages for data science.\n",
    "print(\"1. Python has a simple and readable syntax, making it beginner-friendly.\")\n",
    "\n",
    "# Python has a rich ecosystem of libraries for data manipulation, analysis, and visualization.\n",
    "print(\"2. Python offers powerful libraries like pandas, numpy, matplotlib, and scikit-learn.\")\n",
    "\n",
    "# Python is versatile and widely used in the industry.\n",
    "print(\"3. Python is used by top companies for data analysis, machine learning, and AI.\")"
   ]
  },
  {
   "cell_type": "code",
   "execution_count": null,
   "id": "adfba4c2-bf0f-41d3-94ba-eb16a1f33d07",
   "metadata": {},
   "outputs": [],
   "source": []
  }
 ],
 "metadata": {
  "kernelspec": {
   "display_name": "Python 3 (ipykernel)",
   "language": "python",
   "name": "python3"
  },
  "language_info": {
   "codemirror_mode": {
    "name": "ipython",
    "version": 3
   },
   "file_extension": ".py",
   "mimetype": "text/x-python",
   "name": "python",
   "nbconvert_exporter": "python",
   "pygments_lexer": "ipython3",
   "version": "3.13.3"
  }
 },
 "nbformat": 4,
 "nbformat_minor": 5
}
