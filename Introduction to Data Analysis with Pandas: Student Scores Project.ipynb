{
  "nbformat": 4,
  "nbformat_minor": 0,
  "metadata": {
    "colab": {
      "provenance": [],
      "authorship_tag": "ABX9TyPyOrVfDF0ksF82CTmceNN+",
      "include_colab_link": true
    },
    "kernelspec": {
      "name": "python3",
      "display_name": "Python 3"
    },
    "language_info": {
      "name": "python"
    }
  },
  "cells": [
    {
      "cell_type": "markdown",
      "metadata": {
        "id": "view-in-github",
        "colab_type": "text"
      },
      "source": [
        "<a href=\"https://colab.research.google.com/github/Thandeka-Lubisi1/capaciti-data-analytics-projects/blob/main/Introduction%20to%20Data%20Analysis%20with%20Pandas%3A%20Student%20Scores%20Project.ipynb\" target=\"_parent\"><img src=\"https://colab.research.google.com/assets/colab-badge.svg\" alt=\"Open In Colab\"/></a>"
      ]
    },
    {
      "cell_type": "code",
      "execution_count": 1,
      "metadata": {
        "colab": {
          "base_uri": "https://localhost:8080/"
        },
        "id": "sFq0LRmZmHN9",
        "outputId": "03314c78-63b8-422e-d5e6-5777b906b9ce"
      },
      "outputs": [
        {
          "output_type": "stream",
          "name": "stdout",
          "text": [
            "      Name  Math  Science  English\n",
            "0    Alice    85       90       78\n",
            "1      Bob    76       80       88\n",
            "2  Charlie    92       85       85\n",
            "3    David    67       72       74\n",
            "4     Emma    88       95       91\n"
          ]
        }
      ],
      "source": [
        "import pandas as pd\n",
        "\n",
        "# Step 1: Load the CSV file into a DataFrame\n",
        "df = pd.read_csv(\"student_scores.csv\")\n",
        "\n",
        "# Step 2: Display the first few rows\n",
        "print(df.head())\n"
      ]
    }
  ]
}